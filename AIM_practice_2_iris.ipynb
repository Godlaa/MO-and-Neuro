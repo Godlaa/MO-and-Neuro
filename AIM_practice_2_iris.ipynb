{
 "cells": [
  {
   "cell_type": "code",
   "execution_count": 7,
   "id": "935b9094",
   "metadata": {},
   "outputs": [],
   "source": [
    "# Задача 1.\n",
    "# Исследовать качество работы классификаторы в зависимости от выбранного метода преобразования данных\n",
    "# Изучить методы преобразования данных: from sklearn.preprocessing https://scikit-learn.org/stable/modules/preprocessing.html\n",
    "# Критерий качества - accuracy\n",
    "# Сформировать таблицу для сравнения"
   ]
  },
  {
   "cell_type": "code",
   "execution_count": 8,
   "id": "4c47bb39",
   "metadata": {},
   "outputs": [
    {
     "name": "stdout",
     "output_type": "stream",
     "text": [
      "                Scaler  Accuracy                      Confusion Matrix\n",
      "0       StandardScaler  0.977778  [[19, 0, 0], [0, 12, 1], [0, 0, 13]]\n",
      "1         MinMaxScaler  1.000000  [[19, 0, 0], [0, 13, 0], [0, 0, 13]]\n",
      "2         MaxAbsScaler  0.977778  [[19, 0, 0], [0, 12, 1], [0, 0, 13]]\n",
      "3         RobustScaler  0.911111  [[19, 0, 0], [0, 11, 2], [0, 2, 11]]\n",
      "4           Normalizer  0.977778  [[19, 0, 0], [0, 13, 0], [0, 1, 12]]\n",
      "5  QuantileTransformer  1.000000  [[19, 0, 0], [0, 13, 0], [0, 0, 13]]\n",
      "6     PowerTransformer  0.977778  [[19, 0, 0], [0, 12, 1], [0, 0, 13]]\n",
      "7            Binarizer  0.288889  [[0, 19, 0], [0, 13, 0], [0, 13, 0]]\n"
     ]
    },
    {
     "name": "stderr",
     "output_type": "stream",
     "text": [
      "c:\\Users\\mimim\\AppData\\Local\\Programs\\Python\\Python39\\lib\\site-packages\\sklearn\\preprocessing\\_data.py:2785: UserWarning: n_quantiles (1000) is greater than the total number of samples (105). n_quantiles is set to n_samples.\n",
      "  warnings.warn(\n"
     ]
    }
   ],
   "source": [
    "import pandas as pd\n",
    "from sklearn.metrics import accuracy_score\n",
    "from sklearn.datasets import load_iris\n",
    "from sklearn.metrics import confusion_matrix\n",
    "from sklearn.model_selection import train_test_split\n",
    "from sklearn.neighbors import KNeighborsClassifier\n",
    "from sklearn.preprocessing import StandardScaler, MinMaxScaler, MaxAbsScaler, RobustScaler, Normalizer, QuantileTransformer, PowerTransformer, Binarizer\n",
    "\n",
    "iris = load_iris()\n",
    "X = iris.data\n",
    "y = iris.target\n",
    "\n",
    "X_train, X_test, y_train, y_test = train_test_split(X, y, test_size=0.3, random_state=42)\n",
    "\n",
    "scalers = [\n",
    "    (\"StandardScaler\", StandardScaler()),\n",
    "    (\"MinMaxScaler\", MinMaxScaler()),\n",
    "    (\"MaxAbsScaler\", MaxAbsScaler()),\n",
    "    (\"RobustScaler\", RobustScaler()),\n",
    "    (\"Normalizer\", Normalizer()),\n",
    "    (\"QuantileTransformer\", QuantileTransformer()),\n",
    "    (\"PowerTransformer\", PowerTransformer()),\n",
    "    (\"Binarizer\", Binarizer())\n",
    "]\n",
    "\n",
    "results = []\n",
    "\n",
    "for name, scaler in scalers:\n",
    "    X_train_scaled = scaler.fit_transform(X_train)\n",
    "    X_test_scaled = scaler.transform(X_test)\n",
    "\n",
    "    classifier = KNeighborsClassifier(n_neighbors=1)\n",
    "    classifier.fit(X_train_scaled, y_train)\n",
    "\n",
    "    y_pred = classifier.predict(X_test_scaled)\n",
    "\n",
    "    accuracy = accuracy_score(y_test, y_pred)\n",
    "    conf_matrix = confusion_matrix(y_test, y_pred)\n",
    "\n",
    "    results.append((name, accuracy, conf_matrix))\n",
    "\n",
    "df_results = pd.DataFrame(results, columns=[\"Scaler\", \"Accuracy\", \"Confusion Matrix\"])\n",
    "print(df_results)\n"
   ]
  },
  {
   "cell_type": "markdown",
   "id": "2ecb990b",
   "metadata": {},
   "source": [
    "MinMaxScaler и QuantileTransformer показали лучшие результаты. Binarizer показал худший результат, преобразование в бинарное представление не пододит под задачу."
   ]
  }
 ],
 "metadata": {
  "kernelspec": {
   "display_name": "Python 3",
   "language": "python",
   "name": "python3"
  },
  "language_info": {
   "codemirror_mode": {
    "name": "ipython",
    "version": 3
   },
   "file_extension": ".py",
   "mimetype": "text/x-python",
   "name": "python",
   "nbconvert_exporter": "python",
   "pygments_lexer": "ipython3",
   "version": "3.9.0"
  }
 },
 "nbformat": 4,
 "nbformat_minor": 5
}
