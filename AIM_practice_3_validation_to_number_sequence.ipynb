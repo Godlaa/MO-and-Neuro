{
 "cells": [
  {
   "cell_type": "code",
   "execution_count": 7,
   "metadata": {},
   "outputs": [],
   "source": [
    "# Преоразовать существующий код для распознавания последовательности рукописных символов в текст.\n",
    "# Написать генератор произвольной последовательности рукописных символов.\n",
    "\n",
    "# ГЕНЕРАЦИЯ НАБОРА ДАННЫХ\n",
    "# Сгенерировать набор текстовых строк из допустимых символов.\n",
    "# Каждому набору поставить в соотвествие массив изоражений соответствующих символов.\n",
    "# Добавить пробелы для разделения слов, символы пробелов не использовать во время классификации.\n",
    "\n",
    "# КЛАССИФИКАЦИЯ (k ближайших соседей)\n",
    "# Часть символов оставить для обучения классификатора . Остальные  классифицировать\n",
    "# по аналогии с примером mnist с прошлого занятия. Т.е. преобразовывать изображение в вектор.\n",
    "# Выбрать оптимальный классификатор в зависимости от k- количество соседей.\n",
    "# Метрика для измерения точности классификации, и выбора оптимального классификатора относительно параметра k - accuracy.\n",
    "\n",
    "# РАСПОЗНАВАНИЕ\n",
    "# Итак, к данному этапу Вы из массива изображений \"восстановили\" текст.\n",
    "# Случайно удалите некоторые символы,и случайно добавьте символы в результат распознавания.\n",
    "# Рассчитайте метрику CER.\n",
    "\n",
    "\n"
   ]
  },
  {
   "cell_type": "code",
   "execution_count": 8,
   "metadata": {},
   "outputs": [
    {
     "name": "stdout",
     "output_type": "stream",
     "text": [
      "Возможные символы: ['(', ')', '+', ',', '-', '0', '1', '2', '3', '4', '5', '6', '7', '8', '9', 'h', 't', '*', 'w', 'X', 'y']\n",
      "Строки: ['+)yh(y*y-5', ',w9)183,9+', 't71w4X,6,w', '13t,-y3y((', '7w7,93Xy3X', '30)6,7,8+9', 'yyy1941t09', 't6X)+502-y', ',y203-0-,5', '2w+,6X3076']\n"
     ]
    }
   ],
   "source": [
    "COUNT_NUMBERS_IN_STRINGS = 10\n",
    "COUNT_STRINGS = 10\n",
    "\n",
    "import os\n",
    "import random\n",
    "\n",
    "directory = 'data'\n",
    "symbols = list(map(lambda x: x.replace('times', '*'), [sym for sym in os.listdir(directory)]))\n",
    "strings = [''.join(random.choices(symbols, k = COUNT_NUMBERS_IN_STRINGS)) for _ in range(COUNT_STRINGS)]\n",
    "\n",
    "print(f'Возможные символы: {symbols}\\nСтроки: {strings}')"
   ]
  },
  {
   "cell_type": "code",
   "execution_count": 9,
   "metadata": {},
   "outputs": [
    {
     "ename": "ModuleNotFoundError",
     "evalue": "No module named 'PIL'",
     "output_type": "error",
     "traceback": [
      "\u001b[1;31m---------------------------------------------------------------------------\u001b[0m",
      "\u001b[1;31mModuleNotFoundError\u001b[0m                       Traceback (most recent call last)",
      "Cell \u001b[1;32mIn[9], line 1\u001b[0m\n\u001b[1;32m----> 1\u001b[0m \u001b[38;5;28;01mfrom\u001b[39;00m \u001b[38;5;21;01mPIL\u001b[39;00m \u001b[38;5;28;01mimport\u001b[39;00m Image\n\u001b[0;32m      3\u001b[0m \u001b[38;5;28;01mdef\u001b[39;00m \u001b[38;5;21mcombine_images_to_string\u001b[39m(images, max_offset\u001b[38;5;241m=\u001b[39m\u001b[38;5;241m50\u001b[39m, spacing\u001b[38;5;241m=\u001b[39m\u001b[38;5;241m5\u001b[39m):\n\u001b[0;32m      5\u001b[0m     scaled_images \u001b[38;5;241m=\u001b[39m [\n\u001b[0;32m      6\u001b[0m         Image\u001b[38;5;241m.\u001b[39mopen(img)\u001b[38;5;241m.\u001b[39mresize(\n\u001b[0;32m      7\u001b[0m             (\u001b[38;5;28mint\u001b[39m(Image\u001b[38;5;241m.\u001b[39mopen(img)\u001b[38;5;241m.\u001b[39mwidth \u001b[38;5;241m*\u001b[39m scale), \u001b[38;5;28mint\u001b[39m(Image\u001b[38;5;241m.\u001b[39mopen(img)\u001b[38;5;241m.\u001b[39mheight \u001b[38;5;241m*\u001b[39m scale)),\n\u001b[1;32m   (...)\u001b[0m\n\u001b[0;32m     10\u001b[0m         \u001b[38;5;28;01mfor\u001b[39;00m img, scale \u001b[38;5;129;01min\u001b[39;00m \u001b[38;5;28mzip\u001b[39m(images, [random\u001b[38;5;241m.\u001b[39muniform(\u001b[38;5;241m0.8\u001b[39m, \u001b[38;5;241m0.9\u001b[39m) \u001b[38;5;28;01mfor\u001b[39;00m _ \u001b[38;5;129;01min\u001b[39;00m images])\n\u001b[0;32m     11\u001b[0m     ]\n",
      "\u001b[1;31mModuleNotFoundError\u001b[0m: No module named 'PIL'"
     ]
    }
   ],
   "source": [
    "from PIL import Image\n",
    "\n",
    "def combine_images_to_string(images, max_offset=50, spacing=5):\n",
    "\n",
    "    scaled_images = [\n",
    "        Image.open(img).resize(\n",
    "            (int(Image.open(img).width * scale), int(Image.open(img).height * scale)),\n",
    "            Image.LANCZOS\n",
    "        )\n",
    "        for img, scale in zip(images, [random.uniform(0.8, 0.9) for _ in images])\n",
    "    ]\n",
    "\n",
    "    total_width = sum(img.width for img in scaled_images) + spacing * (len(scaled_images) - 1)\n",
    "    max_height = max(img.height for img in scaled_images) + max_offset\n",
    "    combined_image = Image.new('RGB', (total_width, max_height), (255, 255, 255))\n",
    "\n",
    "    x_offset = 0\n",
    "    for img in scaled_images:\n",
    "        combined_image.paste(img, (x_offset, random.randint(0, max_offset)))\n",
    "        x_offset += img.width + spacing\n",
    "\n",
    "    return combined_image\n"
   ]
  },
  {
   "cell_type": "code",
   "execution_count": null,
   "metadata": {},
   "outputs": [],
   "source": [
    "def get_sym_images_paths_map():\n",
    "    symb_images = {}\n",
    "    for sym in symbols:\n",
    "        folder = directory + '/' + (sym if sym != '*' else 'times')\n",
    "        symb_images[sym] = [folder + '/' + img_path for img_path in os.listdir(folder)]\n",
    "    return symb_images"
   ]
  },
  {
   "cell_type": "code",
   "execution_count": null,
   "metadata": {},
   "outputs": [],
   "source": [
    "\n",
    "def get_string_images_paths_map(sym_images):\n",
    "    return {string : [sym_images[symbol][random.randint(0, len(sym_images[symbol]) - 1)] for symbol in string] for string in strings}"
   ]
  },
  {
   "cell_type": "code",
   "execution_count": null,
   "metadata": {},
   "outputs": [],
   "source": [
    "from glob import glob\n",
    "\n",
    "sym_images = get_sym_images_paths_map()\n",
    "strings_images = get_string_images_paths_map(sym_images)\n",
    "\n",
    "my_images_directory = 'images'\n",
    "[os.remove(file) for file in glob(f'{my_images_directory}/*')]\n",
    "\n",
    "my_images_paths = {}\n",
    "\n",
    "for i, (string, images) in enumerate(strings_images.items(), start=1):\n",
    "    new_image = combine_images_to_string(images)\n",
    "    path = f'{my_images_directory}/{i}.png'\n",
    "    new_image.save(path)\n",
    "    my_images_paths[string] = path"
   ]
  },
  {
   "cell_type": "code",
   "execution_count": null,
   "metadata": {},
   "outputs": [
    {
     "ename": "ModuleNotFoundError",
     "evalue": "No module named 'cv2'",
     "output_type": "error",
     "traceback": [
      "\u001b[1;31m---------------------------------------------------------------------------\u001b[0m",
      "\u001b[1;31mModuleNotFoundError\u001b[0m                       Traceback (most recent call last)",
      "Cell \u001b[1;32mIn[39], line 1\u001b[0m\n\u001b[1;32m----> 1\u001b[0m \u001b[38;5;28;01mimport\u001b[39;00m \u001b[38;5;21;01mcv2\u001b[39;00m\n\u001b[0;32m      2\u001b[0m \u001b[38;5;28;01mimport\u001b[39;00m \u001b[38;5;21;01mnumpy\u001b[39;00m \u001b[38;5;28;01mas\u001b[39;00m \u001b[38;5;21;01mnp\u001b[39;00m\n\u001b[0;32m      4\u001b[0m \u001b[38;5;28;01mdef\u001b[39;00m \u001b[38;5;21mget_cv_image\u001b[39m(image):\n",
      "\u001b[1;31mModuleNotFoundError\u001b[0m: No module named 'cv2'"
     ]
    }
   ],
   "source": [
    "import cv2\n",
    "import numpy as np\n",
    "\n",
    "def get_cv_image(image):\n",
    "    if isinstance(image, str):\n",
    "        image = cv2.imread(image, cv2.IMREAD_GRAYSCALE)\n",
    "    else:\n",
    "        image = cv2.cvtColor(np.array(image), cv2.COLOR_RGB2GRAY)\n",
    "    return image\n",
    "\n",
    "def get_vector(image):\n",
    "    image = get_cv_image(image)\n",
    "\n",
    "    _, thresh = cv2.threshold(image, 128, 255, cv2.THRESH_BINARY_INV)\n",
    "    contours, _ = cv2.findContours(thresh, cv2.RETR_EXTERNAL, cv2.CHAIN_APPROX_SIMPLE)\n",
    "    if contours:\n",
    "        x, y, w, h = cv2.boundingRect(max(contours, key=cv2.contourArea))\n",
    "        return cv2.resize(image[y:y+h, x:x+w], (28, 28)).flatten()\n",
    "    return None\n",
    "\n",
    "from concurrent.futures import ThreadPoolExecutor\n",
    "\n",
    "def prepare_data(data_dict):\n",
    "    X = []\n",
    "    y = []\n",
    "    def process_label_images(label, img_paths):\n",
    "        vectors = [get_vector(path) for path in img_paths]\n",
    "        labels = [label] * len(vectors)\n",
    "        return vectors, labels\n",
    "\n",
    "    with ThreadPoolExecutor() as executor:\n",
    "        results = list(executor.map(lambda item: process_label_images(*item), data_dict.items()))\n",
    "\n",
    "    for vectors, labels in results:\n",
    "        X.extend(vectors)\n",
    "        y.extend(labels)\n",
    "\n",
    "    return np.array(X), np.array(y)"
   ]
  },
  {
   "cell_type": "code",
   "execution_count": null,
   "metadata": {},
   "outputs": [],
   "source": [
    "from sklearn.model_selection import train_test_split\n",
    "\n",
    "X, y = prepare_data(sym_images)\n",
    "X_train, X_test, y_train, y_test = train_test_split(X, y, test_size=0.2, random_state=42)\n"
   ]
  },
  {
   "cell_type": "code",
   "execution_count": null,
   "metadata": {},
   "outputs": [],
   "source": [
    "from sklearn.neighbors import KNeighborsClassifier\n",
    "from sklearn.model_selection import GridSearchCV\n",
    "\n",
    "def find_optimal_k(X_train, y_train, k_range=(1, 5)):\n",
    "    param_grid = {'n_neighbors': list(range(k_range[0], k_range[1] + 1))}\n",
    "    grid_search = GridSearchCV(KNeighborsClassifier(), param_grid, cv=5, scoring='accuracy')\n",
    "    grid_search.fit(X_train, y_train)\n",
    "\n",
    "    return grid_search.best_params_['n_neighbors']\n",
    "\n",
    "optimal_k = 1 # опытным путем\n",
    "\n",
    "print(f'optimal_k = {optimal_k}')"
   ]
  },
  {
   "cell_type": "code",
   "execution_count": null,
   "metadata": {},
   "outputs": [],
   "source": [
    "import pickle\n",
    "from sklearn.metrics import accuracy_score\n",
    "\n",
    "def create_and_write_model(path_file, k):\n",
    "    knn_model = KNeighborsClassifier(n_neighbors=k)\n",
    "    knn_model.fit(X_train, y_train)\n",
    "    with open(path_file, 'wb') as file:\n",
    "        pickle.dump(knn_model, file)\n",
    "\n",
    "def read_model(path_file):\n",
    "    with open(path_file, 'rb') as file:\n",
    "        knn_model_loaded = pickle.load(file)\n",
    "    return knn_model_loaded\n",
    "\n",
    "model_path = 'models/knn_model.pkl'\n",
    "\n",
    "create_and_write_model(model_path, optimal_k)\n",
    "\n",
    "knn_model = read_model(model_path)\n",
    "predictions = knn_model.predict(X_test)\n",
    "\n",
    "print(f'accuracy = {accuracy_score(y_test, predictions)}')"
   ]
  },
  {
   "cell_type": "code",
   "execution_count": null,
   "metadata": {},
   "outputs": [],
   "source": [
    "import matplotlib.pyplot as plt\n",
    "\n",
    "def merge_two_rects(rect1, rect2):\n",
    "    x1, y1, w1, h1 = rect1\n",
    "    x2, y2, w2, h2 = rect2\n",
    "    x = min(x1, x2)\n",
    "    y = min(y1, y2)\n",
    "    w = max(x1 + w1, x2 + w2) - x\n",
    "    h = max(y1 + h1, y2 + h2) - y\n",
    "    return (x, y, w, h)\n",
    "\n",
    "def calculate_distance(rect1, rect2):\n",
    "    x1, y1, w1, h1 = rect1\n",
    "    x2, y2, w2, h2 = rect2\n",
    "    center1 = (x1 + w1 / 2, y1 + h1 / 2)\n",
    "    center2 = (x2 + w2 / 2, y2 + h2 / 2)\n",
    "    return ((center1[0] - center2[0]) ** 2 + (center1[1] - center2[1]) ** 2) ** 0.5\n",
    "\n",
    "def merge_close_rectangles(rects, distance_threshold, count_limit):\n",
    "    while len(rects) > count_limit:\n",
    "        pairs_to_merge = [\n",
    "            (rects[i], rects[j]) \n",
    "            for i in range(len(rects)) \n",
    "            for j in range(i + 1, len(rects))\n",
    "            if calculate_distance(rects[i], rects[j]) < distance_threshold\n",
    "        ]\n",
    "\n",
    "        if not pairs_to_merge: break  # Если нет пар для объединения, выходим из цикла\n",
    "\n",
    "        rect1, rect2 = pairs_to_merge[0]\n",
    "        merged_rect = merge_two_rects(rect1, rect2)\n",
    "        rects.remove(rect1)\n",
    "        rects.remove(rect2)\n",
    "        rects.append(merged_rect)\n",
    "\n",
    "    return rects\n",
    "\n",
    "def merge_rectangles(rects, distance_threshold = 25, count_limit = COUNT_NUMBERS_IN_STRINGS):\n",
    "    rects = merge_close_rectangles(rects, distance_threshold, count_limit)\n",
    "    \n",
    "    if len(rects) > count_limit:\n",
    "        rects = sorted(rects, key=lambda rect: (rect[2] * rect[3]), reverse=True)\n",
    "        big_rects = rects[:count_limit]\n",
    "        other_rects = rects[count_limit:]\n",
    "\n",
    "        for rect in other_rects:\n",
    "            closest_big_rect = min(big_rects, key=lambda big: calculate_distance(rect, big))\n",
    "            merged_rect = merge_two_rects(rect, closest_big_rect)\n",
    "            big_rects[big_rects.index(closest_big_rect)] = merged_rect\n",
    "\n",
    "        return big_rects\n",
    "\n",
    "    return rects\n",
    "\n",
    "def extract_symbols(image_path):\n",
    "    image = cv2.imread(image_path)\n",
    "    gray = cv2.cvtColor(image, cv2.COLOR_BGR2GRAY)\n",
    "    thresh = cv2.threshold(gray, 128, 255, cv2.THRESH_BINARY_INV)[1]\n",
    "    dilated = cv2.dilate(thresh, cv2.getStructuringElement(cv2.MORPH_RECT, (5, 5)))\n",
    "    rects = [cv2.boundingRect(c) for c in cv2.findContours(dilated, cv2.RETR_EXTERNAL, cv2.CHAIN_APPROX_SIMPLE)[0]]\n",
    "\n",
    "    if len(rects) > COUNT_NUMBERS_IN_STRINGS:\n",
    "        rects = merge_rectangles(rects)\n",
    "\n",
    "    rects.sort(key=lambda r: r[0])\n",
    "\n",
    "    symbols = [get_vector(image[y:y+h, x:x+w]) for (x, y, w, h) in rects]\n",
    "\n",
    "    for (x, y, w, h) in rects:\n",
    "        cv2.rectangle(image, (x, y), (x+w, y+h), (0, 255, 0), 1)\n",
    "\n",
    "    plt.imshow(cv2.cvtColor(image, cv2.COLOR_BGR2RGB))\n",
    "    plt.show()\n",
    "\n",
    "    return symbols"
   ]
  },
  {
   "cell_type": "code",
   "execution_count": null,
   "metadata": {},
   "outputs": [],
   "source": [
    "results = []\n",
    "symb_vectors = []\n",
    "\n",
    "for string, img_path in my_images_paths.items():\n",
    "    symb_images = extract_symbols(img_path)\n",
    "    if len(symb_images) == COUNT_NUMBERS_IN_STRINGS:\n",
    "        predictions = knn_model.predict(symb_images)\n",
    "        accuracy = accuracy_score(list(string), predictions)\n",
    "        results.append((list(string), predictions, accuracy))\n",
    "    else:\n",
    "        print('Неправильно определены контуры')"
   ]
  },
  {
   "cell_type": "code",
   "execution_count": null,
   "metadata": {},
   "outputs": [],
   "source": [
    "from pandas import DataFrame, concat\n",
    "\n",
    "df_results = DataFrame(results, columns=['Исходные символы', 'Предсказанные символы', 'Accuracy'])\n",
    "mean_accuracy = df_results['Accuracy'].mean()\n",
    "\n",
    "new_row = DataFrame({\n",
    "    'Символы исходной строки': [''],\n",
    "    'Предсказанные символы': ['Средняя accuracy'],\n",
    "    'Accuracy': [mean_accuracy]\n",
    "})\n",
    "\n",
    "df_result = concat([df_results, new_row], ignore_index=True)\n",
    "df_result"
   ]
  },
  {
   "cell_type": "code",
   "execution_count": null,
   "metadata": {},
   "outputs": [],
   "source": [
    "import editdistance\n",
    "\n",
    "def modify_and_calculate_cer(row):\n",
    "    original = list(row['Исходная строка'])\n",
    "    predicted = list(row['Предсказанные символы'])\n",
    "\n",
    "    num_to_modify = random.randint(1, 3)\n",
    "    indices = random.sample(range(len(predicted)), num_to_modify)\n",
    "    predicted = [predicted[i] for i in range(len(predicted)) if i not in indices]\n",
    "    predicted += random.choices(symbols, k=num_to_modify)\n",
    "\n",
    "    cer = editdistance.eval(''.join(original), ''.join(predicted)) / max(len(original), len(predicted) or 1)\n",
    "    return ''.join(original), ''.join(predicted), cer"
   ]
  },
  {
   "cell_type": "code",
   "execution_count": null,
   "metadata": {},
   "outputs": [],
   "source": [
    "df_results[['Исходная строка', 'Предсказанные символы', 'CER']] = df_results.apply(modify_and_calculate_cer, axis=1, result_type='expand')\n",
    "\n",
    "mean_cer = df_results['CER'].mean()\n",
    "\n",
    "new_row = DataFrame({\n",
    "    'Исходная строка': [''],\n",
    "    'Предсказанные символы': ['Среднее значение'],\n",
    "    'CER': [mean_cer]\n",
    "})\n",
    "\n",
    "df_сer = concat([df_results, new_row], ignore_index=True).drop(columns=['Accuracy'])\n",
    "df_сer"
   ]
  }
 ],
 "metadata": {
  "kernelspec": {
   "display_name": "Python 3",
   "language": "python",
   "name": "python3"
  },
  "language_info": {
   "codemirror_mode": {
    "name": "ipython",
    "version": 3
   },
   "file_extension": ".py",
   "mimetype": "text/x-python",
   "name": "python",
   "nbconvert_exporter": "python",
   "pygments_lexer": "ipython3",
   "version": "3.12.5"
  }
 },
 "nbformat": 4,
 "nbformat_minor": 2
}
